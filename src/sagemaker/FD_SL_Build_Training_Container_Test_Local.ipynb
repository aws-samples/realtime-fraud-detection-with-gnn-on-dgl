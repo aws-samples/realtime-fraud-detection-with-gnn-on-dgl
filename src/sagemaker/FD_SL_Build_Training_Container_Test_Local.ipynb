{
 "cells": [
  {
   "cell_type": "markdown",
   "metadata": {},
   "source": [
    "# Notebook to run docker building and running\n",
    "\n",
    "## First step: build our own docker image"
   ]
  },
  {
   "cell_type": "code",
   "execution_count": 9,
   "metadata": {},
   "outputs": [
    {
     "name": "stdout",
     "output_type": "stream",
     "text": [
      "/home/ec2-user/SageMaker/docker_test_folder\n"
     ]
    }
   ],
   "source": [
    "%cd ~/SageMaker/gnn_fraud_detection_dgl/"
   ]
  },
  {
   "cell_type": "code",
   "execution_count": 10,
   "metadata": {},
   "outputs": [
    {
     "name": "stdout",
     "output_type": "stream",
     "text": [
      "/home/ec2-user/SageMaker/docker_test_folder\n"
     ]
    }
   ],
   "source": [
    "! pwd"
   ]
  },
  {
   "cell_type": "code",
   "execution_count": 16,
   "metadata": {},
   "outputs": [
    {
     "name": "stdout",
     "output_type": "stream",
     "text": [
      "WARNING! Your password will be stored unencrypted in /home/ec2-user/.docker/config.json.\n",
      "Configure a credential helper to remove this warning. See\n",
      "https://docs.docker.com/engine/reference/commandline/login/#credentials-store\n",
      "\n",
      "Login Succeeded\n"
     ]
    }
   ],
   "source": [
    "! aws ecr get-login-password --region cn-north-1 | docker login --username AWS --password-stdin 727897471807.dkr.ecr.cn-north-1.amazonaws.com.cn"
   ]
  },
  {
   "cell_type": "code",
   "execution_count": 17,
   "metadata": {},
   "outputs": [
    {
     "name": "stdout",
     "output_type": "stream",
     "text": [
      "Sending build context to Docker daemon   59.9kB\n",
      "Step 1/6 : FROM 727897471807.dkr.ecr.cn-north-1.amazonaws.com.cn/pytorch-training:1.4.0-cpu-py36-ubuntu16.04\n",
      " ---> 9aae29fca0da\n",
      "Step 2/6 : ENV PATH=\"/opt/ml/code:${PATH}\"\n",
      " ---> Using cache\n",
      " ---> 43e63d19b750\n",
      "Step 3/6 : ENV SAGEMAKER_SUBMIT_DIRECTORY /opt/ml/code\n",
      " ---> Using cache\n",
      " ---> aba791b432d5\n",
      "Step 4/6 : COPY * /opt/ml/code/\n",
      " ---> Using cache\n",
      " ---> f2d7fc170fd9\n",
      "Step 5/6 : ENV SAGEMAKER_PROGRAM fd_sl_train_entry_point.py\n",
      " ---> Using cache\n",
      " ---> ce2f46fe8ab2\n",
      "Step 6/6 : RUN pip install dgl==0.4.2\n",
      " ---> Using cache\n",
      " ---> 8d3fbb8eb7e4\n",
      "Successfully built 8d3fbb8eb7e4\n",
      "Successfully tagged pytorch-extended-container-test:latest\n"
     ]
    }
   ],
   "source": [
    "! docker build -t pytorch-extended-container-test ."
   ]
  },
  {
   "cell_type": "markdown",
   "metadata": {},
   "source": [
    "## Step 2: Test this docker image"
   ]
  },
  {
   "cell_type": "code",
   "execution_count": 18,
   "metadata": {},
   "outputs": [
    {
     "name": "stdout",
     "output_type": "stream",
     "text": [
      "arn:aws-cn:iam::510768346845:role/service-role/AmazonSageMaker-ExecutionRole-20200526T111603\n",
      "<sagemaker.session.Session object at 0x7f7b34f83c18>\n"
     ]
    }
   ],
   "source": [
    "from sagemaker import get_execution_role, Session\n",
    "\n",
    "role = get_execution_role()\n",
    "sess = Session()\n",
    "\n",
    "print(role)\n",
    "print(sess)"
   ]
  },
  {
   "cell_type": "code",
   "execution_count": 19,
   "metadata": {},
   "outputs": [
    {
     "name": "stdout",
     "output_type": "stream",
     "text": [
      "s3://fraud-detection-solution/processed_data\n",
      "s3://fraud-detection-solution/model_output\n",
      "===== Processed Files =====\n",
      "s3://fraud-detection-solution/processed_data\n",
      "s3://fraud-detection-solution/processed_data/features.csv\n",
      "s3://fraud-detection-solution/processed_data/relation_DeviceInfo_edgelist.csv\n",
      "s3://fraud-detection-solution/processed_data/relation_DeviceType_edgelist.csv\n",
      "s3://fraud-detection-solution/processed_data/relation_P_emaildomain_edgelist.csv\n",
      "s3://fraud-detection-solution/processed_data/relation_ProductCD_edgelist.csv\n",
      "s3://fraud-detection-solution/processed_data/relation_R_emaildomain_edgelist.csv\n",
      "s3://fraud-detection-solution/processed_data/relation_TransactionID_edgelist.csv\n",
      "s3://fraud-detection-solution/processed_data/relation_addr1_edgelist.csv\n",
      "s3://fraud-detection-solution/processed_data/relation_addr2_edgelist.csv\n",
      "s3://fraud-detection-solution/processed_data/relation_card1_edgelist.csv\n",
      "s3://fraud-detection-solution/processed_data/relation_card2_edgelist.csv\n",
      "s3://fraud-detection-solution/processed_data/relation_card3_edgelist.csv\n",
      "s3://fraud-detection-solution/processed_data/relation_card4_edgelist.csv\n",
      "s3://fraud-detection-solution/processed_data/relation_card5_edgelist.csv\n",
      "s3://fraud-detection-solution/processed_data/relation_card6_edgelist.csv\n",
      "s3://fraud-detection-solution/processed_data/relation_id_01_edgelist.csv\n",
      "s3://fraud-detection-solution/processed_data/relation_id_02_edgelist.csv\n",
      "s3://fraud-detection-solution/processed_data/relation_id_03_edgelist.csv\n",
      "s3://fraud-detection-solution/processed_data/relation_id_04_edgelist.csv\n",
      "s3://fraud-detection-solution/processed_data/relation_id_05_edgelist.csv\n",
      "s3://fraud-detection-solution/processed_data/relation_id_06_edgelist.csv\n",
      "s3://fraud-detection-solution/processed_data/relation_id_07_edgelist.csv\n",
      "s3://fraud-detection-solution/processed_data/relation_id_08_edgelist.csv\n",
      "s3://fraud-detection-solution/processed_data/relation_id_09_edgelist.csv\n",
      "s3://fraud-detection-solution/processed_data/relation_id_10_edgelist.csv\n",
      "s3://fraud-detection-solution/processed_data/relation_id_11_edgelist.csv\n",
      "s3://fraud-detection-solution/processed_data/relation_id_12_edgelist.csv\n",
      "s3://fraud-detection-solution/processed_data/relation_id_13_edgelist.csv\n",
      "s3://fraud-detection-solution/processed_data/relation_id_14_edgelist.csv\n",
      "s3://fraud-detection-solution/processed_data/relation_id_15_edgelist.csv\n",
      "s3://fraud-detection-solution/processed_data/relation_id_16_edgelist.csv\n",
      "s3://fraud-detection-solution/processed_data/relation_id_17_edgelist.csv\n",
      "s3://fraud-detection-solution/processed_data/relation_id_18_edgelist.csv\n",
      "s3://fraud-detection-solution/processed_data/relation_id_19_edgelist.csv\n",
      "s3://fraud-detection-solution/processed_data/relation_id_20_edgelist.csv\n",
      "s3://fraud-detection-solution/processed_data/relation_id_21_edgelist.csv\n",
      "s3://fraud-detection-solution/processed_data/relation_id_22_edgelist.csv\n",
      "s3://fraud-detection-solution/processed_data/relation_id_23_edgelist.csv\n",
      "s3://fraud-detection-solution/processed_data/relation_id_24_edgelist.csv\n",
      "s3://fraud-detection-solution/processed_data/relation_id_25_edgelist.csv\n",
      "s3://fraud-detection-solution/processed_data/relation_id_26_edgelist.csv\n",
      "s3://fraud-detection-solution/processed_data/relation_id_27_edgelist.csv\n",
      "s3://fraud-detection-solution/processed_data/relation_id_28_edgelist.csv\n",
      "s3://fraud-detection-solution/processed_data/relation_id_29_edgelist.csv\n",
      "s3://fraud-detection-solution/processed_data/relation_id_30_edgelist.csv\n",
      "s3://fraud-detection-solution/processed_data/relation_id_31_edgelist.csv\n",
      "s3://fraud-detection-solution/processed_data/relation_id_32_edgelist.csv\n",
      "s3://fraud-detection-solution/processed_data/relation_id_33_edgelist.csv\n",
      "s3://fraud-detection-solution/processed_data/relation_id_34_edgelist.csv\n",
      "s3://fraud-detection-solution/processed_data/relation_id_35_edgelist.csv\n",
      "s3://fraud-detection-solution/processed_data/relation_id_36_edgelist.csv\n",
      "s3://fraud-detection-solution/processed_data/relation_id_37_edgelist.csv\n",
      "s3://fraud-detection-solution/processed_data/relation_id_38_edgelist.csv\n",
      "s3://fraud-detection-solution/processed_data/tags.csv\n",
      "s3://fraud-detection-solution/processed_data/test.csv\n"
     ]
    }
   ],
   "source": [
    "# Replace with an S3 location or local path to point to customers' own dataset\n",
    "data_location = 'fraud-detection-solution'\n",
    "raw_data_folder = 'raw_data'\n",
    "processed_data_folder = 'processed_data'\n",
    "model_output_folder = 'model_output'\n",
    "\n",
    "processed_data = 's3://{}/{}'.format(data_location, processed_data_folder)\n",
    "output_path = 's3://{}/{}'.format(data_location, model_output_folder)\n",
    "\n",
    "print(processed_data)\n",
    "print(output_path)\n",
    "\n",
    "from os import path\n",
    "from sagemaker.s3 import S3Downloader\n",
    "processed_files = S3Downloader.list(processed_data)\n",
    "print(\"===== Processed Files =====\")\n",
    "print('\\n'.join(processed_files))"
   ]
  },
  {
   "cell_type": "code",
   "execution_count": 7,
   "metadata": {},
   "outputs": [],
   "source": [
    "edges = \",\".join(map(lambda x: x.split(\"/\")[-1], [file for file in processed_files if \"relation\" in file]))\n",
    "params = {'nodes' : 'features.csv',\n",
    "          'edges': 'relation*',\n",
    "          'labels': 'tags.csv',\n",
    "          'embedding-size': 64,\n",
    "          'n-layers': 2,\n",
    "          'n-epochs': 10,\n",
    "          'optimizer': 'adam',\n",
    "          'lr': 1e-2\n",
    "        }"
   ]
  },
  {
   "cell_type": "code",
   "execution_count": null,
   "metadata": {},
   "outputs": [
    {
     "name": "stderr",
     "output_type": "stream",
     "text": [
      "train_instance_count has been renamed in sagemaker>=2.\n",
      "See: https://sagemaker.readthedocs.io/en/stable/v2.html for details.\n",
      "train_instance_type has been renamed in sagemaker>=2.\n",
      "See: https://sagemaker.readthedocs.io/en/stable/v2.html for details.\n"
     ]
    },
    {
     "name": "stdout",
     "output_type": "stream",
     "text": [
      "JamesTrain01-2021-01-22-07-27-59\n",
      "Creating tmp03mj5pi2_algo-1-v9h10_1 ... \n",
      "\u001B[1BAttaching to tmp03mj5pi2_algo-1-v9h10_12mdone\u001B[0m\n",
      "\u001B[36malgo-1-v9h10_1  |\u001B[0m 2021-01-22 07:28:25,336 sagemaker-containers INFO     Imported framework sagemaker_pytorch_container.training\n",
      "\u001B[36malgo-1-v9h10_1  |\u001B[0m 2021-01-22 07:28:25,337 sagemaker-containers INFO     Failed to parse hyperparameter nodes value features.csv to Json.\n",
      "\u001B[36malgo-1-v9h10_1  |\u001B[0m Returning the value itself\n",
      "\u001B[36malgo-1-v9h10_1  |\u001B[0m 2021-01-22 07:28:25,337 sagemaker-containers INFO     Failed to parse hyperparameter edges value relation* to Json.\n",
      "\u001B[36malgo-1-v9h10_1  |\u001B[0m Returning the value itself\n",
      "\u001B[36malgo-1-v9h10_1  |\u001B[0m 2021-01-22 07:28:25,337 sagemaker-containers INFO     Failed to parse hyperparameter labels value tags.csv to Json.\n",
      "\u001B[36malgo-1-v9h10_1  |\u001B[0m Returning the value itself\n",
      "\u001B[36malgo-1-v9h10_1  |\u001B[0m 2021-01-22 07:28:25,338 sagemaker-containers INFO     Failed to parse hyperparameter model value rgcn to Json.\n",
      "\u001B[36malgo-1-v9h10_1  |\u001B[0m Returning the value itself\n",
      "\u001B[36malgo-1-v9h10_1  |\u001B[0m 2021-01-22 07:28:25,338 sagemaker-containers INFO     Failed to parse hyperparameter optimizer value adam to Json.\n",
      "\u001B[36malgo-1-v9h10_1  |\u001B[0m Returning the value itself\n",
      "\u001B[36malgo-1-v9h10_1  |\u001B[0m 2021-01-22 07:28:25,340 sagemaker-containers INFO     No GPUs detected (normal if no gpus installed)\n",
      "\u001B[36malgo-1-v9h10_1  |\u001B[0m 2021-01-22 07:28:25,350 sagemaker_pytorch_container.training INFO     Block until all host DNS lookups succeed.\n",
      "\u001B[36malgo-1-v9h10_1  |\u001B[0m 2021-01-22 07:28:25,355 sagemaker_pytorch_container.training INFO     Invoking user training script.\n",
      "\u001B[36malgo-1-v9h10_1  |\u001B[0m 2021-01-22 07:28:25,359 sagemaker-containers INFO     Module default_user_module_name does not provide a setup.py. \n",
      "\u001B[36malgo-1-v9h10_1  |\u001B[0m Generating setup.py\n",
      "\u001B[36malgo-1-v9h10_1  |\u001B[0m 2021-01-22 07:28:25,359 sagemaker-containers INFO     Generating setup.cfg\n",
      "\u001B[36malgo-1-v9h10_1  |\u001B[0m 2021-01-22 07:28:25,359 sagemaker-containers INFO     Generating MANIFEST.in\n",
      "\u001B[36malgo-1-v9h10_1  |\u001B[0m 2021-01-22 07:28:25,360 sagemaker-containers INFO     Installing module with the following command:\n",
      "\u001B[36malgo-1-v9h10_1  |\u001B[0m /opt/conda/bin/python -m pip install . \n",
      "\u001B[36malgo-1-v9h10_1  |\u001B[0m Processing /tmp/tmpsthmzsnz/module_dir\n",
      "\u001B[36malgo-1-v9h10_1  |\u001B[0m Building wheels for collected packages: default-user-module-name\n",
      "\u001B[36malgo-1-v9h10_1  |\u001B[0m   Building wheel for default-user-module-name (setup.py) ... \u001B[?25ldone\n",
      "\u001B[36malgo-1-v9h10_1  |\u001B[0m \u001B[?25h  Created wheel for default-user-module-name: filename=default_user_module_name-1.0.0-py2.py3-none-any.whl size=30890 sha256=0c7c8b0601b1141972d8b938ffd84a42ec65ae78882e384ef3511f816572859d\n",
      "\u001B[36malgo-1-v9h10_1  |\u001B[0m   Stored in directory: /tmp/pip-ephem-wheel-cache-g6zlnnly/wheels/d1/a1/c4/eb284e139b08f86311136dc2b0a43c129d32ce291854409351\n",
      "\u001B[36malgo-1-v9h10_1  |\u001B[0m Successfully built default-user-module-name\n",
      "\u001B[36malgo-1-v9h10_1  |\u001B[0m Installing collected packages: default-user-module-name\n",
      "\u001B[36malgo-1-v9h10_1  |\u001B[0m Successfully installed default-user-module-name-1.0.0\n",
      "\u001B[36malgo-1-v9h10_1  |\u001B[0m \u001B[33mWARNING: You are using pip version 20.1.1; however, version 20.3.3 is available.\n",
      "\u001B[36malgo-1-v9h10_1  |\u001B[0m You should consider upgrading via the '/opt/conda/bin/python -m pip install --upgrade pip' command.\u001B[0m\n",
      "\u001B[36malgo-1-v9h10_1  |\u001B[0m 2021-01-22 07:28:27,251 sagemaker-containers INFO     No GPUs detected (normal if no gpus installed)\n",
      "\u001B[36malgo-1-v9h10_1  |\u001B[0m 2021-01-22 07:28:27,251 sagemaker-containers INFO     Failed to parse hyperparameter nodes value features.csv to Json.\n",
      "\u001B[36malgo-1-v9h10_1  |\u001B[0m Returning the value itself\n",
      "\u001B[36malgo-1-v9h10_1  |\u001B[0m 2021-01-22 07:28:27,251 sagemaker-containers INFO     Failed to parse hyperparameter edges value relation* to Json.\n",
      "\u001B[36malgo-1-v9h10_1  |\u001B[0m Returning the value itself\n",
      "\u001B[36malgo-1-v9h10_1  |\u001B[0m 2021-01-22 07:28:27,251 sagemaker-containers INFO     Failed to parse hyperparameter labels value tags.csv to Json.\n",
      "\u001B[36malgo-1-v9h10_1  |\u001B[0m Returning the value itself\n",
      "\u001B[36malgo-1-v9h10_1  |\u001B[0m 2021-01-22 07:28:27,252 sagemaker-containers INFO     Failed to parse hyperparameter model value rgcn to Json.\n",
      "\u001B[36malgo-1-v9h10_1  |\u001B[0m Returning the value itself\n",
      "\u001B[36malgo-1-v9h10_1  |\u001B[0m 2021-01-22 07:28:27,252 sagemaker-containers INFO     Failed to parse hyperparameter optimizer value adam to Json.\n",
      "\u001B[36malgo-1-v9h10_1  |\u001B[0m Returning the value itself\n",
      "\u001B[36malgo-1-v9h10_1  |\u001B[0m 2021-01-22 07:28:27,262 sagemaker-containers INFO     Failed to parse hyperparameter nodes value features.csv to Json.\n",
      "\u001B[36malgo-1-v9h10_1  |\u001B[0m Returning the value itself\n",
      "\u001B[36malgo-1-v9h10_1  |\u001B[0m 2021-01-22 07:28:27,262 sagemaker-containers INFO     Failed to parse hyperparameter edges value relation* to Json.\n",
      "\u001B[36malgo-1-v9h10_1  |\u001B[0m Returning the value itself\n",
      "\u001B[36malgo-1-v9h10_1  |\u001B[0m 2021-01-22 07:28:27,262 sagemaker-containers INFO     Failed to parse hyperparameter labels value tags.csv to Json.\n",
      "\u001B[36malgo-1-v9h10_1  |\u001B[0m Returning the value itself\n",
      "\u001B[36malgo-1-v9h10_1  |\u001B[0m 2021-01-22 07:28:27,262 sagemaker-containers INFO     Failed to parse hyperparameter model value rgcn to Json.\n",
      "\u001B[36malgo-1-v9h10_1  |\u001B[0m Returning the value itself\n",
      "\u001B[36malgo-1-v9h10_1  |\u001B[0m 2021-01-22 07:28:27,262 sagemaker-containers INFO     Failed to parse hyperparameter optimizer value adam to Json.\n",
      "\u001B[36malgo-1-v9h10_1  |\u001B[0m Returning the value itself\n",
      "\u001B[36malgo-1-v9h10_1  |\u001B[0m 2021-01-22 07:28:27,265 sagemaker-containers INFO     No GPUs detected (normal if no gpus installed)\n",
      "\u001B[36malgo-1-v9h10_1  |\u001B[0m 2021-01-22 07:28:27,275 sagemaker-containers INFO     Failed to parse hyperparameter nodes value features.csv to Json.\n",
      "\u001B[36malgo-1-v9h10_1  |\u001B[0m Returning the value itself\n",
      "\u001B[36malgo-1-v9h10_1  |\u001B[0m 2021-01-22 07:28:27,275 sagemaker-containers INFO     Failed to parse hyperparameter edges value relation* to Json.\n",
      "\u001B[36malgo-1-v9h10_1  |\u001B[0m Returning the value itself\n",
      "\u001B[36malgo-1-v9h10_1  |\u001B[0m 2021-01-22 07:28:27,275 sagemaker-containers INFO     Failed to parse hyperparameter labels value tags.csv to Json.\n",
      "\u001B[36malgo-1-v9h10_1  |\u001B[0m Returning the value itself\n",
      "\u001B[36malgo-1-v9h10_1  |\u001B[0m 2021-01-22 07:28:27,275 sagemaker-containers INFO     Failed to parse hyperparameter model value rgcn to Json.\n",
      "\u001B[36malgo-1-v9h10_1  |\u001B[0m Returning the value itself\n",
      "\u001B[36malgo-1-v9h10_1  |\u001B[0m 2021-01-22 07:28:27,275 sagemaker-containers INFO     Failed to parse hyperparameter optimizer value adam to Json.\n",
      "\u001B[36malgo-1-v9h10_1  |\u001B[0m Returning the value itself\n",
      "\u001B[36malgo-1-v9h10_1  |\u001B[0m 2021-01-22 07:28:27,278 sagemaker-containers INFO     No GPUs detected (normal if no gpus installed)\n",
      "\u001B[36malgo-1-v9h10_1  |\u001B[0m 2021-01-22 07:28:27,288 sagemaker-containers INFO     Invoking user script\n",
      "\u001B[36malgo-1-v9h10_1  |\u001B[0m \n",
      "\u001B[36malgo-1-v9h10_1  |\u001B[0m Training Env:\n",
      "\u001B[36malgo-1-v9h10_1  |\u001B[0m \n",
      "\u001B[36malgo-1-v9h10_1  |\u001B[0m {\n",
      "\u001B[36malgo-1-v9h10_1  |\u001B[0m     \"additional_framework_parameters\": {},\n",
      "\u001B[36malgo-1-v9h10_1  |\u001B[0m     \"channel_input_dirs\": {\n",
      "\u001B[36malgo-1-v9h10_1  |\u001B[0m         \"train\": \"/opt/ml/input/data/train\"\n",
      "\u001B[36malgo-1-v9h10_1  |\u001B[0m     },\n",
      "\u001B[36malgo-1-v9h10_1  |\u001B[0m     \"current_host\": \"algo-1-v9h10\",\n",
      "\u001B[36malgo-1-v9h10_1  |\u001B[0m     \"framework_module\": \"sagemaker_pytorch_container.training:main\",\n",
      "\u001B[36malgo-1-v9h10_1  |\u001B[0m     \"hosts\": [\n",
      "\u001B[36malgo-1-v9h10_1  |\u001B[0m         \"algo-1-v9h10\"\n",
      "\u001B[36malgo-1-v9h10_1  |\u001B[0m     ],\n",
      "\u001B[36malgo-1-v9h10_1  |\u001B[0m     \"hyperparameters\": {\n",
      "\u001B[36malgo-1-v9h10_1  |\u001B[0m         \"nodes\": \"features.csv\",\n",
      "\u001B[36malgo-1-v9h10_1  |\u001B[0m         \"edges\": \"relation*\",\n",
      "\u001B[36malgo-1-v9h10_1  |\u001B[0m         \"labels\": \"tags.csv\",\n",
      "\u001B[36malgo-1-v9h10_1  |\u001B[0m         \"model\": \"rgcn\",\n",
      "\u001B[36malgo-1-v9h10_1  |\u001B[0m         \"batch-size\": 10000,\n",
      "\u001B[36malgo-1-v9h10_1  |\u001B[0m         \"embedding-size\": 64,\n",
      "\u001B[36malgo-1-v9h10_1  |\u001B[0m         \"n-neighbors\": 1000,\n",
      "\u001B[36malgo-1-v9h10_1  |\u001B[0m         \"n-layers\": 2,\n",
      "\u001B[36malgo-1-v9h10_1  |\u001B[0m         \"n-epochs\": 10,\n",
      "\u001B[36malgo-1-v9h10_1  |\u001B[0m         \"optimizer\": \"adam\",\n",
      "\u001B[36malgo-1-v9h10_1  |\u001B[0m         \"lr\": 0.01\n",
      "\u001B[36malgo-1-v9h10_1  |\u001B[0m     },\n",
      "\u001B[36malgo-1-v9h10_1  |\u001B[0m     \"input_config_dir\": \"/opt/ml/input/config\",\n",
      "\u001B[36malgo-1-v9h10_1  |\u001B[0m     \"input_data_config\": {\n",
      "\u001B[36malgo-1-v9h10_1  |\u001B[0m         \"train\": {\n",
      "\u001B[36malgo-1-v9h10_1  |\u001B[0m             \"TrainingInputMode\": \"File\"\n",
      "\u001B[36malgo-1-v9h10_1  |\u001B[0m         }\n",
      "\u001B[36malgo-1-v9h10_1  |\u001B[0m     },\n",
      "\u001B[36malgo-1-v9h10_1  |\u001B[0m     \"input_dir\": \"/opt/ml/input\",\n",
      "\u001B[36malgo-1-v9h10_1  |\u001B[0m     \"is_master\": true,\n",
      "\u001B[36malgo-1-v9h10_1  |\u001B[0m     \"job_name\": \"JamesTrain01-2021-01-22-07-27-59\",\n",
      "\u001B[36malgo-1-v9h10_1  |\u001B[0m     \"log_level\": 20,\n",
      "\u001B[36malgo-1-v9h10_1  |\u001B[0m     \"master_hostname\": \"algo-1-v9h10\",\n",
      "\u001B[36malgo-1-v9h10_1  |\u001B[0m     \"model_dir\": \"/opt/ml/model\",\n",
      "\u001B[36malgo-1-v9h10_1  |\u001B[0m     \"module_dir\": \"/opt/ml/code\",\n",
      "\u001B[36malgo-1-v9h10_1  |\u001B[0m     \"module_name\": \"fd_sl_train_entry_point\",\n",
      "\u001B[36malgo-1-v9h10_1  |\u001B[0m     \"network_interface_name\": \"eth0\",\n",
      "\u001B[36malgo-1-v9h10_1  |\u001B[0m     \"num_cpus\": 4,\n",
      "\u001B[36malgo-1-v9h10_1  |\u001B[0m     \"num_gpus\": 0,\n",
      "\u001B[36malgo-1-v9h10_1  |\u001B[0m     \"output_data_dir\": \"/opt/ml/output/data\",\n",
      "\u001B[36malgo-1-v9h10_1  |\u001B[0m     \"output_dir\": \"/opt/ml/output\",\n",
      "\u001B[36malgo-1-v9h10_1  |\u001B[0m     \"output_intermediate_dir\": \"/opt/ml/output/intermediate\",\n",
      "\u001B[36malgo-1-v9h10_1  |\u001B[0m     \"resource_config\": {\n",
      "\u001B[36malgo-1-v9h10_1  |\u001B[0m         \"current_host\": \"algo-1-v9h10\",\n",
      "\u001B[36malgo-1-v9h10_1  |\u001B[0m         \"hosts\": [\n",
      "\u001B[36malgo-1-v9h10_1  |\u001B[0m             \"algo-1-v9h10\"\n",
      "\u001B[36malgo-1-v9h10_1  |\u001B[0m         ]\n",
      "\u001B[36malgo-1-v9h10_1  |\u001B[0m     },\n",
      "\u001B[36malgo-1-v9h10_1  |\u001B[0m     \"user_entry_point\": \"fd_sl_train_entry_point.py\"\n",
      "\u001B[36malgo-1-v9h10_1  |\u001B[0m }\n",
      "\u001B[36malgo-1-v9h10_1  |\u001B[0m \n",
      "\u001B[36malgo-1-v9h10_1  |\u001B[0m Environment variables:\n",
      "\u001B[36malgo-1-v9h10_1  |\u001B[0m \n",
      "\u001B[36malgo-1-v9h10_1  |\u001B[0m SM_HOSTS=[\"algo-1-v9h10\"]\n",
      "\u001B[36malgo-1-v9h10_1  |\u001B[0m SM_NETWORK_INTERFACE_NAME=eth0\n",
      "\u001B[36malgo-1-v9h10_1  |\u001B[0m SM_HPS={\"batch-size\":10000,\"edges\":\"relation*\",\"embedding-size\":64,\"labels\":\"tags.csv\",\"lr\":0.01,\"model\":\"rgcn\",\"n-epochs\":10,\"n-layers\":2,\"n-neighbors\":1000,\"nodes\":\"features.csv\",\"optimizer\":\"adam\"}\n",
      "\u001B[36malgo-1-v9h10_1  |\u001B[0m SM_USER_ENTRY_POINT=fd_sl_train_entry_point.py\n",
      "\u001B[36malgo-1-v9h10_1  |\u001B[0m SM_FRAMEWORK_PARAMS={}\n",
      "\u001B[36malgo-1-v9h10_1  |\u001B[0m SM_RESOURCE_CONFIG={\"current_host\":\"algo-1-v9h10\",\"hosts\":[\"algo-1-v9h10\"]}\n",
      "\u001B[36malgo-1-v9h10_1  |\u001B[0m SM_INPUT_DATA_CONFIG={\"train\":{\"TrainingInputMode\":\"File\"}}\n",
      "\u001B[36malgo-1-v9h10_1  |\u001B[0m SM_OUTPUT_DATA_DIR=/opt/ml/output/data\n",
      "\u001B[36malgo-1-v9h10_1  |\u001B[0m SM_CHANNELS=[\"train\"]\n",
      "\u001B[36malgo-1-v9h10_1  |\u001B[0m SM_CURRENT_HOST=algo-1-v9h10\n",
      "\u001B[36malgo-1-v9h10_1  |\u001B[0m SM_MODULE_NAME=fd_sl_train_entry_point\n",
      "\u001B[36malgo-1-v9h10_1  |\u001B[0m SM_LOG_LEVEL=20\n",
      "\u001B[36malgo-1-v9h10_1  |\u001B[0m SM_FRAMEWORK_MODULE=sagemaker_pytorch_container.training:main\n",
      "\u001B[36malgo-1-v9h10_1  |\u001B[0m SM_INPUT_DIR=/opt/ml/input\n",
      "\u001B[36malgo-1-v9h10_1  |\u001B[0m SM_INPUT_CONFIG_DIR=/opt/ml/input/config\n",
      "\u001B[36malgo-1-v9h10_1  |\u001B[0m SM_OUTPUT_DIR=/opt/ml/output\n",
      "\u001B[36malgo-1-v9h10_1  |\u001B[0m SM_NUM_CPUS=4\n",
      "\u001B[36malgo-1-v9h10_1  |\u001B[0m SM_NUM_GPUS=0\n",
      "\u001B[36malgo-1-v9h10_1  |\u001B[0m SM_MODEL_DIR=/opt/ml/model\n",
      "\u001B[36malgo-1-v9h10_1  |\u001B[0m SM_MODULE_DIR=/opt/ml/code\n",
      "\u001B[36malgo-1-v9h10_1  |\u001B[0m SM_TRAINING_ENV={\"additional_framework_parameters\":{},\"channel_input_dirs\":{\"train\":\"/opt/ml/input/data/train\"},\"current_host\":\"algo-1-v9h10\",\"framework_module\":\"sagemaker_pytorch_container.training:main\",\"hosts\":[\"algo-1-v9h10\"],\"hyperparameters\":{\"batch-size\":10000,\"edges\":\"relation*\",\"embedding-size\":64,\"labels\":\"tags.csv\",\"lr\":0.01,\"model\":\"rgcn\",\"n-epochs\":10,\"n-layers\":2,\"n-neighbors\":1000,\"nodes\":\"features.csv\",\"optimizer\":\"adam\"},\"input_config_dir\":\"/opt/ml/input/config\",\"input_data_config\":{\"train\":{\"TrainingInputMode\":\"File\"}},\"input_dir\":\"/opt/ml/input\",\"is_master\":true,\"job_name\":\"JamesTrain01-2021-01-22-07-27-59\",\"log_level\":20,\"master_hostname\":\"algo-1-v9h10\",\"model_dir\":\"/opt/ml/model\",\"module_dir\":\"/opt/ml/code\",\"module_name\":\"fd_sl_train_entry_point\",\"network_interface_name\":\"eth0\",\"num_cpus\":4,\"num_gpus\":0,\"output_data_dir\":\"/opt/ml/output/data\",\"output_dir\":\"/opt/ml/output\",\"output_intermediate_dir\":\"/opt/ml/output/intermediate\",\"resource_config\":{\"current_host\":\"algo-1-v9h10\",\"hosts\":[\"algo-1-v9h10\"]},\"user_entry_point\":\"fd_sl_train_entry_point.py\"}\n",
      "\u001B[36malgo-1-v9h10_1  |\u001B[0m SM_USER_ARGS=[\"--batch-size\",\"10000\",\"--edges\",\"relation*\",\"--embedding-size\",\"64\",\"--labels\",\"tags.csv\",\"--lr\",\"0.01\",\"--model\",\"rgcn\",\"--n-epochs\",\"10\",\"--n-layers\",\"2\",\"--n-neighbors\",\"1000\",\"--nodes\",\"features.csv\",\"--optimizer\",\"adam\"]\n",
      "\u001B[36malgo-1-v9h10_1  |\u001B[0m SM_OUTPUT_INTERMEDIATE_DIR=/opt/ml/output/intermediate\n",
      "\u001B[36malgo-1-v9h10_1  |\u001B[0m SM_CHANNEL_TRAIN=/opt/ml/input/data/train\n",
      "\u001B[36malgo-1-v9h10_1  |\u001B[0m SM_HP_NODES=features.csv\n",
      "\u001B[36malgo-1-v9h10_1  |\u001B[0m SM_HP_EDGES=relation*\n",
      "\u001B[36malgo-1-v9h10_1  |\u001B[0m SM_HP_LABELS=tags.csv\n",
      "\u001B[36malgo-1-v9h10_1  |\u001B[0m SM_HP_MODEL=rgcn\n",
      "\u001B[36malgo-1-v9h10_1  |\u001B[0m SM_HP_BATCH-SIZE=10000\n",
      "\u001B[36malgo-1-v9h10_1  |\u001B[0m SM_HP_EMBEDDING-SIZE=64\n",
      "\u001B[36malgo-1-v9h10_1  |\u001B[0m SM_HP_N-NEIGHBORS=1000\n",
      "\u001B[36malgo-1-v9h10_1  |\u001B[0m SM_HP_N-LAYERS=2\n",
      "\u001B[36malgo-1-v9h10_1  |\u001B[0m SM_HP_N-EPOCHS=10\n",
      "\u001B[36malgo-1-v9h10_1  |\u001B[0m SM_HP_OPTIMIZER=adam\n",
      "\u001B[36malgo-1-v9h10_1  |\u001B[0m SM_HP_LR=0.01\n",
      "\u001B[36malgo-1-v9h10_1  |\u001B[0m PYTHONPATH=/opt/ml/code:/opt/conda/bin:/opt/conda/lib/python36.zip:/opt/conda/lib/python3.6:/opt/conda/lib/python3.6/lib-dynload:/opt/conda/lib/python3.6/site-packages\n",
      "\u001B[36malgo-1-v9h10_1  |\u001B[0m \n",
      "\u001B[36malgo-1-v9h10_1  |\u001B[0m Invoking script with the following command:\n",
      "\u001B[36malgo-1-v9h10_1  |\u001B[0m \n",
      "\u001B[36malgo-1-v9h10_1  |\u001B[0m /opt/conda/bin/python fd_sl_train_entry_point.py --batch-size 10000 --edges relation* --embedding-size 64 --labels tags.csv --lr 0.01 --model rgcn --n-epochs 10 --n-layers 2 --n-neighbors 1000 --nodes features.csv --optimizer adam\n",
      "\u001B[36malgo-1-v9h10_1  |\u001B[0m \n",
      "\u001B[36malgo-1-v9h10_1  |\u001B[0m \n",
      "\u001B[36malgo-1-v9h10_1  |\u001B[0m DLG version: 0.4.2\n",
      "\u001B[36malgo-1-v9h10_1  |\u001B[0m numpy version:1.16.4 PyTorch version:1.4.0 DGL version:0.4.2\n",
      "\u001B[36malgo-1-v9h10_1  |\u001B[0m Namespace(aggregator_type='gcn', alpha=0.2, attn_drop=0.6, batch_size=10000, compute_metrics=True, dropout=0.2, edges='relation*', embedding_size=64, heterogeneous=True, labels='tags.csv', lr=0.01, mini_batch=False, model='rgcn', model_dir='/opt/ml/model', n_epochs=10, n_hidden=16, n_layers=2, n_neighbors=1000, new_accounts='test.csv', no_features=False, nodes='features.csv', num_gpus=0, num_heads=4, num_out_heads=1, optimizer='adam', output_dir='/opt/ml/output/data', predictions='preds.csv', residual=False, target_ntype='TransactionID', threshold=0, training_dir='/opt/ml/input/data/train', weight_decay=0.0005)\n",
      "\u001B[36malgo-1-v9h10_1  |\u001B[0m Getting relation graphs from the following edge lists : ['relation_card4_edgelist.csv', 'relation_id_23_edgelist.csv', 'relation_id_02_edgelist.csv', 'relation_id_03_edgelist.csv', 'relation_card3_edgelist.csv', 'relation_card6_edgelist.csv', 'relation_id_33_edgelist.csv', 'relation_card1_edgelist.csv', 'relation_id_28_edgelist.csv', 'relation_id_35_edgelist.csv', 'relation_id_15_edgelist.csv', 'relation_id_34_edgelist.csv', 'relation_id_19_edgelist.csv', 'relation_id_10_edgelist.csv', 'relation_id_31_edgelist.csv', 'relation_DeviceType_edgelist.csv', 'relation_id_27_edgelist.csv', 'relation_id_11_edgelist.csv', 'relation_id_26_edgelist.csv', 'relation_DeviceInfo_edgelist.csv', 'relation_P_emaildomain_edgelist.csv', 'relation_id_38_edgelist.csv', 'relation_id_13_edgelist.csv', 'relation_id_20_edgelist.csv', 'relation_id_17_edgelist.csv', 'relation_id_22_edgelist.csv', 'relation_card5_edgelist.csv', 'relation_id_18_edgelist.csv', 'relation_addr2_edgelist.csv', 'relation_id_12_edgelist.csv', 'relation_id_07_edgelist.csv', 'relation_card2_edgelist.csv', 'relation_id_37_edgelist.csv', 'relation_id_06_edgelist.csv', 'relation_id_16_edgelist.csv', 'relation_id_36_edgelist.csv', 'relation_id_09_edgelist.csv', 'relation_id_30_edgelist.csv', 'relation_id_32_edgelist.csv', 'relation_ProductCD_edgelist.csv', 'relation_id_29_edgelist.csv', 'relation_TransactionID_edgelist.csv', 'relation_addr1_edgelist.csv', 'relation_id_14_edgelist.csv', 'relation_id_25_edgelist.csv', 'relation_id_21_edgelist.csv', 'relation_id_04_edgelist.csv', 'relation_id_08_edgelist.csv', 'relation_id_01_edgelist.csv', 'relation_id_05_edgelist.csv', 'relation_R_emaildomain_edgelist.csv', 'relation_id_24_edgelist.csv'] \n",
      "\u001B[36malgo-1-v9h10_1  |\u001B[0m Read edges for relation0 from edgelist: /opt/ml/input/data/train/relation_card4_edgelist.csv\n",
      "\u001B[36malgo-1-v9h10_1  |\u001B[0m Read edges for relation1 from edgelist: /opt/ml/input/data/train/relation_id_23_edgelist.csv\n",
      "\u001B[36malgo-1-v9h10_1  |\u001B[0m Read edges for relation2 from edgelist: /opt/ml/input/data/train/relation_id_02_edgelist.csv\n",
      "\u001B[36malgo-1-v9h10_1  |\u001B[0m Read edges for relation3 from edgelist: /opt/ml/input/data/train/relation_id_03_edgelist.csv\n",
      "\u001B[36malgo-1-v9h10_1  |\u001B[0m Read edges for relation4 from edgelist: /opt/ml/input/data/train/relation_card3_edgelist.csv\n",
      "\u001B[36malgo-1-v9h10_1  |\u001B[0m Read edges for relation5 from edgelist: /opt/ml/input/data/train/relation_card6_edgelist.csv\n",
      "\u001B[36malgo-1-v9h10_1  |\u001B[0m Read edges for relation6 from edgelist: /opt/ml/input/data/train/relation_id_33_edgelist.csv\n",
      "\u001B[36malgo-1-v9h10_1  |\u001B[0m Read edges for relation7 from edgelist: /opt/ml/input/data/train/relation_card1_edgelist.csv\n",
      "\u001B[36malgo-1-v9h10_1  |\u001B[0m Read edges for relation8 from edgelist: /opt/ml/input/data/train/relation_id_28_edgelist.csv\n",
      "\u001B[36malgo-1-v9h10_1  |\u001B[0m Read edges for relation9 from edgelist: /opt/ml/input/data/train/relation_id_35_edgelist.csv\n",
      "\u001B[36malgo-1-v9h10_1  |\u001B[0m Read edges for relation10 from edgelist: /opt/ml/input/data/train/relation_id_15_edgelist.csv\n",
      "\u001B[36malgo-1-v9h10_1  |\u001B[0m Read edges for relation11 from edgelist: /opt/ml/input/data/train/relation_id_34_edgelist.csv\n",
      "\u001B[36malgo-1-v9h10_1  |\u001B[0m Read edges for relation12 from edgelist: /opt/ml/input/data/train/relation_id_19_edgelist.csv\n",
      "\u001B[36malgo-1-v9h10_1  |\u001B[0m Read edges for relation13 from edgelist: /opt/ml/input/data/train/relation_id_10_edgelist.csv\n",
      "\u001B[36malgo-1-v9h10_1  |\u001B[0m Read edges for relation14 from edgelist: /opt/ml/input/data/train/relation_id_31_edgelist.csv\n",
      "\u001B[36malgo-1-v9h10_1  |\u001B[0m Read edges for relation15 from edgelist: /opt/ml/input/data/train/relation_DeviceType_edgelist.csv\n",
      "\u001B[36malgo-1-v9h10_1  |\u001B[0m Read edges for relation16 from edgelist: /opt/ml/input/data/train/relation_id_27_edgelist.csv\n",
      "\u001B[36malgo-1-v9h10_1  |\u001B[0m Read edges for relation17 from edgelist: /opt/ml/input/data/train/relation_id_11_edgelist.csv\n",
      "\u001B[36malgo-1-v9h10_1  |\u001B[0m Read edges for relation18 from edgelist: /opt/ml/input/data/train/relation_id_26_edgelist.csv\n",
      "\u001B[36malgo-1-v9h10_1  |\u001B[0m Read edges for relation19 from edgelist: /opt/ml/input/data/train/relation_DeviceInfo_edgelist.csv\n",
      "\u001B[36malgo-1-v9h10_1  |\u001B[0m Read edges for relation20 from edgelist: /opt/ml/input/data/train/relation_P_emaildomain_edgelist.csv\n",
      "\u001B[36malgo-1-v9h10_1  |\u001B[0m Read edges for relation21 from edgelist: /opt/ml/input/data/train/relation_id_38_edgelist.csv\n",
      "\u001B[36malgo-1-v9h10_1  |\u001B[0m Read edges for relation22 from edgelist: /opt/ml/input/data/train/relation_id_13_edgelist.csv\n",
      "\u001B[36malgo-1-v9h10_1  |\u001B[0m Read edges for relation23 from edgelist: /opt/ml/input/data/train/relation_id_20_edgelist.csv\n",
      "\u001B[36malgo-1-v9h10_1  |\u001B[0m Read edges for relation24 from edgelist: /opt/ml/input/data/train/relation_id_17_edgelist.csv\n",
      "\u001B[36malgo-1-v9h10_1  |\u001B[0m Read edges for relation25 from edgelist: /opt/ml/input/data/train/relation_id_22_edgelist.csv\n",
      "\u001B[36malgo-1-v9h10_1  |\u001B[0m Read edges for relation26 from edgelist: /opt/ml/input/data/train/relation_card5_edgelist.csv\n",
      "\u001B[36malgo-1-v9h10_1  |\u001B[0m Read edges for relation27 from edgelist: /opt/ml/input/data/train/relation_id_18_edgelist.csv\n",
      "\u001B[36malgo-1-v9h10_1  |\u001B[0m Read edges for relation28 from edgelist: /opt/ml/input/data/train/relation_addr2_edgelist.csv\n",
      "\u001B[36malgo-1-v9h10_1  |\u001B[0m Read edges for relation29 from edgelist: /opt/ml/input/data/train/relation_id_12_edgelist.csv\n",
      "\u001B[36malgo-1-v9h10_1  |\u001B[0m Read edges for relation30 from edgelist: /opt/ml/input/data/train/relation_id_07_edgelist.csv\n",
      "\u001B[36malgo-1-v9h10_1  |\u001B[0m Read edges for relation31 from edgelist: /opt/ml/input/data/train/relation_card2_edgelist.csv\n",
      "\u001B[36malgo-1-v9h10_1  |\u001B[0m Read edges for relation32 from edgelist: /opt/ml/input/data/train/relation_id_37_edgelist.csv\n",
      "\u001B[36malgo-1-v9h10_1  |\u001B[0m Read edges for relation33 from edgelist: /opt/ml/input/data/train/relation_id_06_edgelist.csv\n",
      "\u001B[36malgo-1-v9h10_1  |\u001B[0m Read edges for relation34 from edgelist: /opt/ml/input/data/train/relation_id_16_edgelist.csv\n",
      "\u001B[36malgo-1-v9h10_1  |\u001B[0m Read edges for relation35 from edgelist: /opt/ml/input/data/train/relation_id_36_edgelist.csv\n",
      "\u001B[36malgo-1-v9h10_1  |\u001B[0m Read edges for relation36 from edgelist: /opt/ml/input/data/train/relation_id_09_edgelist.csv\n",
      "\u001B[36malgo-1-v9h10_1  |\u001B[0m Read edges for relation37 from edgelist: /opt/ml/input/data/train/relation_id_30_edgelist.csv\n",
      "\u001B[36malgo-1-v9h10_1  |\u001B[0m Read edges for relation38 from edgelist: /opt/ml/input/data/train/relation_id_32_edgelist.csv\n",
      "\u001B[36malgo-1-v9h10_1  |\u001B[0m Read edges for relation39 from edgelist: /opt/ml/input/data/train/relation_ProductCD_edgelist.csv\n",
      "\u001B[36malgo-1-v9h10_1  |\u001B[0m Read edges for relation40 from edgelist: /opt/ml/input/data/train/relation_id_29_edgelist.csv\n",
      "\u001B[36malgo-1-v9h10_1  |\u001B[0m Will add self loop for target later......\n",
      "\u001B[36malgo-1-v9h10_1  |\u001B[0m Read edges for relation42 from edgelist: /opt/ml/input/data/train/relation_addr1_edgelist.csv\n",
      "\u001B[36malgo-1-v9h10_1  |\u001B[0m Read edges for relation43 from edgelist: /opt/ml/input/data/train/relation_id_14_edgelist.csv\n",
      "\u001B[36malgo-1-v9h10_1  |\u001B[0m Read edges for relation44 from edgelist: /opt/ml/input/data/train/relation_id_25_edgelist.csv\n",
      "\u001B[36malgo-1-v9h10_1  |\u001B[0m Read edges for relation45 from edgelist: /opt/ml/input/data/train/relation_id_21_edgelist.csv\n",
      "\u001B[36malgo-1-v9h10_1  |\u001B[0m Read edges for relation46 from edgelist: /opt/ml/input/data/train/relation_id_04_edgelist.csv\n",
      "\u001B[36malgo-1-v9h10_1  |\u001B[0m Read edges for relation47 from edgelist: /opt/ml/input/data/train/relation_id_08_edgelist.csv\n",
      "\u001B[36malgo-1-v9h10_1  |\u001B[0m Read edges for relation48 from edgelist: /opt/ml/input/data/train/relation_id_01_edgelist.csv\n",
      "\u001B[36malgo-1-v9h10_1  |\u001B[0m Read edges for relation49 from edgelist: /opt/ml/input/data/train/relation_id_05_edgelist.csv\n",
      "\u001B[36malgo-1-v9h10_1  |\u001B[0m Read edges for relation50 from edgelist: /opt/ml/input/data/train/relation_R_emaildomain_edgelist.csv\n",
      "\u001B[36malgo-1-v9h10_1  |\u001B[0m Read edges for relation51 from edgelist: /opt/ml/input/data/train/relation_id_24_edgelist.csv\n",
      "\u001B[36malgo-1-v9h10_1  |\u001B[0m Read in features for target nodes\n"
     ]
    }
   ],
   "source": [
    "from sagemaker.estimator import Estimator\n",
    "from time import strftime, gmtime\n",
    "\n",
    "estimator = Estimator(image_uri='pytorch-extended-container-test',\n",
    "                      role=role,\n",
    "                      train_instance_count=1,\n",
    "                      train_instance_type='local',\n",
    "                      hyperparameters=params,\n",
    "                      output_path=output_path)\n",
    "\n",
    "training_job_name = \"{}-{}\".format('GNN_FD_SL_DGL_Train', strftime(\"%Y-%m-%d-%H-%M-%S\", gmtime()))\n",
    "print(training_job_name)\n",
    "\n",
    "estimator.fit({'train': processed_data}, job_name=training_job_name)"
   ]
  },
  {
   "cell_type": "code",
   "execution_count": 23,
   "metadata": {},
   "outputs": [
    {
     "name": "stdout",
     "output_type": "stream",
     "text": [
      "/home/ec2-user/SageMaker/docker_test_folder\n"
     ]
    }
   ],
   "source": [
    "!pwd"
   ]
  },
  {
   "cell_type": "code",
   "execution_count": null,
   "metadata": {},
   "outputs": [],
   "source": []
  }
 ],
 "metadata": {
  "kernelspec": {
   "display_name": "conda_pytorch_latest_p36",
   "language": "python",
   "name": "conda_pytorch_latest_p36"
  },
  "language_info": {
   "codemirror_mode": {
    "name": "ipython",
    "version": 3
   },
   "file_extension": ".py",
   "mimetype": "text/x-python",
   "name": "python",
   "nbconvert_exporter": "python",
   "pygments_lexer": "ipython3",
   "version": "3.6.10"
  }
 },
 "nbformat": 4,
 "nbformat_minor": 4
}