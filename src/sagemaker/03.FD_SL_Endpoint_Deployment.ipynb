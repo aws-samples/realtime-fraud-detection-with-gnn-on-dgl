{
 "cells": [
  {
   "cell_type": "markdown",
   "metadata": {},
   "source": [
    "## Deploy endpoint with the trained data\n",
    "\n",
    "After model training, we will deploy an endpoint with trained model. But before doing that pleanse complete step 1 and 2."
   ]
  },
  {
   "cell_type": "code",
   "execution_count": null,
   "metadata": {},
   "outputs": [],
   "source": [
    "%store -r"
   ]
  },
  {
   "cell_type": "code",
   "execution_count": null,
   "metadata": {},
   "outputs": [],
   "source": [
    "import os\n",
    "import boto3\n",
    "import sagemaker as sm\n",
    "print(f'SageMaker:{sm.__version__}')\n",
    "from sagemaker import get_execution_role\n",
    "from sagemaker.pytorch import PyTorchModel\n",
    "from sagemaker.predictor import Predictor, json_serializer, json_deserializer"
   ]
  },
  {
   "cell_type": "code",
   "execution_count": null,
   "metadata": {},
   "outputs": [],
   "source": [
    "class JSONPredictor(Predictor):\n",
    "    def __init__(self, endpoint_name, sagemaker_session):\n",
    "        super(JSONPredictor, self).__init__(endpoint_name, sagemaker_session, json_serializer, json_deserializer)"
   ]
  },
  {
   "cell_type": "code",
   "execution_count": null,
   "metadata": {},
   "outputs": [],
   "source": [
    "env = {\n",
    "    'SAGEMAKER_MODEL_SERVER_WORKERS': '1'\n",
    "}\n",
    "\n",
    "print(f'Use model {repackged_model_path}')\n",
    "\n",
    "sagemakerSession = sm.session.Session(boto3.session.Session(region_name=current_region))\n",
    "fd_sl_model = PyTorchModel(model_data=repackged_model_path, \n",
    "                           role=sagemaker_exec_role,\n",
    "                           entry_point='./FD_SL_DGL/code/fd_sl_deployment_entry_point.py',\n",
    "                           framework_version='1.6.0',\n",
    "                           py_version='py3',\n",
    "                           predictor_cls=JSONPredictor,\n",
    "                           env=env,\n",
    "                           sagemaker_session=sagemakerSession)"
   ]
  },
  {
   "cell_type": "code",
   "execution_count": null,
   "metadata": {},
   "outputs": [],
   "source": [
    "fd_sl_predictor = fd_sl_model.deploy(instance_type='ml.c5.4xlarge', \n",
    "                                     initial_instance_count=1,\n",
    "                                    )"
   ]
  },
  {
   "cell_type": "code",
   "execution_count": null,
   "metadata": {},
   "outputs": [],
   "source": [
    "endpoint = fd_sl_predictor.endpoint_name\n",
    "print(endpoint)"
   ]
  },
  {
   "cell_type": "markdown",
   "metadata": {},
   "source": [
    "### Test the inference endpoint\n",
    "\n",
    "Using the script locates at `./FD_SL_DGL/clients_python/` to test the inference endpoint."
   ]
  },
  {
   "cell_type": "code",
   "execution_count": null,
   "metadata": {},
   "outputs": [],
   "source": [
    "! export AWS_DEFAULT_REGION=$current_region && cd ./FD_SL_DGL/clients_python/ && python ./client_boto_demo.py --endpoint_name $endpoint --test_round 10"
   ]
  },
  {
   "cell_type": "markdown",
   "metadata": {},
   "source": [
    "### Cleanup the resources"
   ]
  },
  {
   "cell_type": "code",
   "execution_count": null,
   "metadata": {},
   "outputs": [],
   "source": [
    "fd_sl_predictor.delete_endpoint()\n",
    "fd_sl_model.delete_model()"
   ]
  },
  {
   "cell_type": "code",
   "execution_count": null,
   "metadata": {},
   "outputs": [],
   "source": []
  }
 ],
 "metadata": {
  "kernelspec": {
   "display_name": "conda_pytorch_latest_p36",
   "language": "python",
   "name": "conda_pytorch_latest_p36"
  },
  "language_info": {
   "codemirror_mode": {
    "name": "ipython",
    "version": 3
   },
   "file_extension": ".py",
   "mimetype": "text/x-python",
   "name": "python",
   "nbconvert_exporter": "python",
   "pygments_lexer": "ipython3",
   "version": "3.6.13"
  }
 },
 "nbformat": 4,
 "nbformat_minor": 4
}
